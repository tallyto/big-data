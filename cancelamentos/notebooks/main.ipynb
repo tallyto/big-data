{
 "cells": [
  {
   "cell_type": "code",
   "execution_count": 13,
   "metadata": {},
   "outputs": [
    {
     "name": "stderr",
     "output_type": "stream",
     "text": [
      "/tmp/ipykernel_28291/1662165445.py:4: DtypeWarning: Columns (3,4) have mixed types. Specify dtype option on import or set low_memory=False.\n",
      "  tabela = pd.read_csv(\"../data/cancelamentos.csv\", on_bad_lines=\"skip\")\n"
     ]
    },
    {
     "name": "stdout",
     "output_type": "stream",
     "text": [
      "<class 'pandas.core.frame.DataFrame'>\n",
      "RangeIndex: 881664 entries, 0 to 881663\n",
      "Data columns (total 11 columns):\n",
      " #   Column                  Non-Null Count   Dtype  \n",
      "---  ------                  --------------   -----  \n",
      " 0   idade                   881664 non-null  float64\n",
      " 1   sexo                    881664 non-null  object \n",
      " 2   tempo_como_cliente      881664 non-null  object \n",
      " 3   frequencia_uso          881664 non-null  object \n",
      " 4   ligacoes_callcenter     881664 non-null  float64\n",
      " 5   dias_atraso             881664 non-null  float64\n",
      " 6   assinatura              881664 non-null  object \n",
      " 7   duracao_contrato        881664 non-null  object \n",
      " 8   total_gasto             881664 non-null  float64\n",
      " 9   meses_ultima_interacao  881664 non-null  float64\n",
      " 10  cancelou                881664 non-null  float64\n",
      "dtypes: float64(6), object(5)\n",
      "memory usage: 74.0+ MB\n"
     ]
    },
    {
     "data": {
      "text/plain": [
       "None"
      ]
     },
     "metadata": {},
     "output_type": "display_data"
    }
   ],
   "source": [
    "import pandas as pd\n",
    "\n",
    "# Lê o arquivo CSV e ignora linhas com erros\n",
    "tabela = pd.read_csv(\"../data/cancelamentos.csv\", on_bad_lines=\"skip\")\n",
    "\n",
    "tabela = tabela.drop(\"CustomerID\", axis=1)\n",
    "\n",
    "# Exibe informações sobre o DataFrame\n",
    "info_tabela = tabela.info()\n",
    "display(info_tabela)\n"
   ]
  },
  {
   "cell_type": "code",
   "execution_count": 14,
   "metadata": {},
   "outputs": [
    {
     "name": "stdout",
     "output_type": "stream",
     "text": [
      "<class 'pandas.core.frame.DataFrame'>\n",
      "RangeIndex: 881664 entries, 0 to 881663\n",
      "Data columns (total 11 columns):\n",
      " #   Column                  Non-Null Count   Dtype  \n",
      "---  ------                  --------------   -----  \n",
      " 0   idade                   881664 non-null  float64\n",
      " 1   sexo                    881664 non-null  object \n",
      " 2   tempo_como_cliente      881664 non-null  object \n",
      " 3   frequencia_uso          881664 non-null  object \n",
      " 4   ligacoes_callcenter     881664 non-null  float64\n",
      " 5   dias_atraso             881664 non-null  float64\n",
      " 6   assinatura              881664 non-null  object \n",
      " 7   duracao_contrato        881664 non-null  object \n",
      " 8   total_gasto             881664 non-null  float64\n",
      " 9   meses_ultima_interacao  881664 non-null  float64\n",
      " 10  cancelou                881664 non-null  float64\n",
      "dtypes: float64(6), object(5)\n",
      "memory usage: 74.0+ MB\n"
     ]
    },
    {
     "data": {
      "text/plain": [
       "None"
      ]
     },
     "metadata": {},
     "output_type": "display_data"
    }
   ],
   "source": [
    "tabela = tabela.dropna()\n",
    "display(tabela.info())"
   ]
  },
  {
   "cell_type": "code",
   "execution_count": 15,
   "metadata": {},
   "outputs": [
    {
     "data": {
      "text/plain": [
       "cancelou\n",
       "1.0    499998\n",
       "0.0    381666\n",
       "Name: count, dtype: int64"
      ]
     },
     "metadata": {},
     "output_type": "display_data"
    },
    {
     "data": {
      "text/plain": [
       "cancelou\n",
       "1.0    56.71%\n",
       "0.0    43.29%\n",
       "Name: proportion, dtype: object"
      ]
     },
     "metadata": {},
     "output_type": "display_data"
    }
   ],
   "source": [
    "# Quantidade absoluta de pessoas que cancelaram e não cancelaram\n",
    "cancelou_counts = tabela[\"cancelou\"].value_counts()\n",
    "\n",
    "# Exibe a contagem absoluta de cancelamentos e não cancelamentos\n",
    "display(cancelou_counts)\n",
    "\n",
    "# Calcula e exibe a porcentagem de cancelamentos e não cancelamentos em relação ao total\n",
    "cancelou_percent = tabela[\"cancelou\"].value_counts(normalize=True).map(\"{:.2%}\".format)\n",
    "display(cancelou_percent)"
   ]
  },
  {
   "cell_type": "code",
   "execution_count": 16,
   "metadata": {},
   "outputs": [
    {
     "data": {
      "text/plain": [
       "duracao_contrato\n",
       "Annual       0.401963\n",
       "Quarterly    0.400447\n",
       "Monthly      0.197589\n",
       "Null         0.000001\n",
       "Name: proportion, dtype: float64"
      ]
     },
     "metadata": {},
     "output_type": "display_data"
    },
    {
     "data": {
      "text/plain": [
       "duracao_contrato\n",
       "Annual       354396\n",
       "Quarterly    353060\n",
       "Monthly      174207\n",
       "Null              1\n",
       "Name: count, dtype: int64"
      ]
     },
     "metadata": {},
     "output_type": "display_data"
    },
    {
     "data": {
      "text/plain": [
       "duracao_contrato\n",
       "Annual       40.20%\n",
       "Quarterly    40.04%\n",
       "Monthly      19.76%\n",
       "Null          0.00%\n",
       "Name: proportion, dtype: object"
      ]
     },
     "metadata": {},
     "output_type": "display_data"
    }
   ],
   "source": [
    "# Exibe a contagem normalizada da coluna 'duracao_contrato'\n",
    "display(tabela[\"duracao_contrato\"].value_counts(normalize=True))\n",
    "\n",
    "# Exibe a contagem não normalizada da coluna 'duracao_contrato'\n",
    "display(tabela[\"duracao_contrato\"].value_counts())\n",
    "\n",
    "# Exibe a porcentagem da coluna 'duracao_contrato'\n",
    "display(tabela[\"duracao_contrato\"].value_counts(normalize=True).map(\"{:.2%}\".format))"
   ]
  },
  {
   "cell_type": "code",
   "execution_count": 17,
   "metadata": {},
   "outputs": [
    {
     "data": {
      "text/html": [
       "<div>\n",
       "<style scoped>\n",
       "    .dataframe tbody tr th:only-of-type {\n",
       "        vertical-align: middle;\n",
       "    }\n",
       "\n",
       "    .dataframe tbody tr th {\n",
       "        vertical-align: top;\n",
       "    }\n",
       "\n",
       "    .dataframe thead th {\n",
       "        text-align: right;\n",
       "    }\n",
       "</style>\n",
       "<table border=\"1\" class=\"dataframe\">\n",
       "  <thead>\n",
       "    <tr style=\"text-align: right;\">\n",
       "      <th></th>\n",
       "      <th>idade</th>\n",
       "      <th>ligacoes_callcenter</th>\n",
       "      <th>dias_atraso</th>\n",
       "      <th>total_gasto</th>\n",
       "      <th>meses_ultima_interacao</th>\n",
       "      <th>cancelou</th>\n",
       "    </tr>\n",
       "    <tr>\n",
       "      <th>duracao_contrato</th>\n",
       "      <th></th>\n",
       "      <th></th>\n",
       "      <th></th>\n",
       "      <th></th>\n",
       "      <th></th>\n",
       "      <th></th>\n",
       "    </tr>\n",
       "  </thead>\n",
       "  <tbody>\n",
       "    <tr>\n",
       "      <th>Annual</th>\n",
       "      <td>38.842188</td>\n",
       "      <td>3.263395</td>\n",
       "      <td>12.465135</td>\n",
       "      <td>651.696325</td>\n",
       "      <td>14.236120</td>\n",
       "      <td>0.460761</td>\n",
       "    </tr>\n",
       "    <tr>\n",
       "      <th>Monthly</th>\n",
       "      <td>41.552222</td>\n",
       "      <td>4.985661</td>\n",
       "      <td>15.007135</td>\n",
       "      <td>550.616445</td>\n",
       "      <td>15.478018</td>\n",
       "      <td>1.000000</td>\n",
       "    </tr>\n",
       "    <tr>\n",
       "      <th>Null</th>\n",
       "      <td>52.000000</td>\n",
       "      <td>3.000000</td>\n",
       "      <td>26.000000</td>\n",
       "      <td>830.000000</td>\n",
       "      <td>19.000000</td>\n",
       "      <td>1.000000</td>\n",
       "    </tr>\n",
       "    <tr>\n",
       "      <th>Quarterly</th>\n",
       "      <td>38.830896</td>\n",
       "      <td>3.265247</td>\n",
       "      <td>12.460891</td>\n",
       "      <td>651.426516</td>\n",
       "      <td>14.234515</td>\n",
       "      <td>0.460256</td>\n",
       "    </tr>\n",
       "  </tbody>\n",
       "</table>\n",
       "</div>"
      ],
      "text/plain": [
       "                      idade  ligacoes_callcenter  dias_atraso  total_gasto  \\\n",
       "duracao_contrato                                                             \n",
       "Annual            38.842188             3.263395    12.465135   651.696325   \n",
       "Monthly           41.552222             4.985661    15.007135   550.616445   \n",
       "Null              52.000000             3.000000    26.000000   830.000000   \n",
       "Quarterly         38.830896             3.265247    12.460891   651.426516   \n",
       "\n",
       "                  meses_ultima_interacao  cancelou  \n",
       "duracao_contrato                                    \n",
       "Annual                         14.236120  0.460761  \n",
       "Monthly                        15.478018  1.000000  \n",
       "Null                           19.000000  1.000000  \n",
       "Quarterly                      14.234515  0.460256  "
      ]
     },
     "metadata": {},
     "output_type": "display_data"
    }
   ],
   "source": [
    "# Analizando o contrato mensal\n",
    "\n",
    "display(tabela.groupby(\"duracao_contrato\").mean(numeric_only=True))"
   ]
  },
  {
   "cell_type": "code",
   "execution_count": 18,
   "metadata": {},
   "outputs": [
    {
     "data": {
      "text/html": [
       "<div>\n",
       "<style scoped>\n",
       "    .dataframe tbody tr th:only-of-type {\n",
       "        vertical-align: middle;\n",
       "    }\n",
       "\n",
       "    .dataframe tbody tr th {\n",
       "        vertical-align: top;\n",
       "    }\n",
       "\n",
       "    .dataframe thead th {\n",
       "        text-align: right;\n",
       "    }\n",
       "</style>\n",
       "<table border=\"1\" class=\"dataframe\">\n",
       "  <thead>\n",
       "    <tr style=\"text-align: right;\">\n",
       "      <th></th>\n",
       "      <th>idade</th>\n",
       "      <th>sexo</th>\n",
       "      <th>tempo_como_cliente</th>\n",
       "      <th>frequencia_uso</th>\n",
       "      <th>ligacoes_callcenter</th>\n",
       "      <th>dias_atraso</th>\n",
       "      <th>assinatura</th>\n",
       "      <th>duracao_contrato</th>\n",
       "      <th>total_gasto</th>\n",
       "      <th>meses_ultima_interacao</th>\n",
       "      <th>cancelou</th>\n",
       "    </tr>\n",
       "  </thead>\n",
       "  <tbody>\n",
       "    <tr>\n",
       "      <th>0</th>\n",
       "      <td>30.0</td>\n",
       "      <td>Female</td>\n",
       "      <td>39.0</td>\n",
       "      <td>14.0</td>\n",
       "      <td>5.0</td>\n",
       "      <td>18.0</td>\n",
       "      <td>Standard</td>\n",
       "      <td>Annual</td>\n",
       "      <td>932.00</td>\n",
       "      <td>17.0</td>\n",
       "      <td>1.0</td>\n",
       "    </tr>\n",
       "    <tr>\n",
       "      <th>2</th>\n",
       "      <td>55.0</td>\n",
       "      <td>Female</td>\n",
       "      <td>14.0</td>\n",
       "      <td>4.0</td>\n",
       "      <td>6.0</td>\n",
       "      <td>18.0</td>\n",
       "      <td>Basic</td>\n",
       "      <td>Quarterly</td>\n",
       "      <td>185.00</td>\n",
       "      <td>3.0</td>\n",
       "      <td>1.0</td>\n",
       "    </tr>\n",
       "    <tr>\n",
       "      <th>5</th>\n",
       "      <td>51.0</td>\n",
       "      <td>Male</td>\n",
       "      <td>33.0</td>\n",
       "      <td>25.0</td>\n",
       "      <td>9.0</td>\n",
       "      <td>26.0</td>\n",
       "      <td>Premium</td>\n",
       "      <td>Annual</td>\n",
       "      <td>129.00</td>\n",
       "      <td>8.0</td>\n",
       "      <td>1.0</td>\n",
       "    </tr>\n",
       "    <tr>\n",
       "      <th>6</th>\n",
       "      <td>58.0</td>\n",
       "      <td>Female</td>\n",
       "      <td>49.0</td>\n",
       "      <td>12.0</td>\n",
       "      <td>3.0</td>\n",
       "      <td>16.0</td>\n",
       "      <td>Standard</td>\n",
       "      <td>Quarterly</td>\n",
       "      <td>821.00</td>\n",
       "      <td>24.0</td>\n",
       "      <td>1.0</td>\n",
       "    </tr>\n",
       "    <tr>\n",
       "      <th>7</th>\n",
       "      <td>55.0</td>\n",
       "      <td>Female</td>\n",
       "      <td>37.0</td>\n",
       "      <td>8.0</td>\n",
       "      <td>4.0</td>\n",
       "      <td>15.0</td>\n",
       "      <td>Premium</td>\n",
       "      <td>Annual</td>\n",
       "      <td>445.00</td>\n",
       "      <td>30.0</td>\n",
       "      <td>1.0</td>\n",
       "    </tr>\n",
       "    <tr>\n",
       "      <th>...</th>\n",
       "      <td>...</td>\n",
       "      <td>...</td>\n",
       "      <td>...</td>\n",
       "      <td>...</td>\n",
       "      <td>...</td>\n",
       "      <td>...</td>\n",
       "      <td>...</td>\n",
       "      <td>...</td>\n",
       "      <td>...</td>\n",
       "      <td>...</td>\n",
       "      <td>...</td>\n",
       "    </tr>\n",
       "    <tr>\n",
       "      <th>881659</th>\n",
       "      <td>42.0</td>\n",
       "      <td>Male</td>\n",
       "      <td>54.0</td>\n",
       "      <td>15.0</td>\n",
       "      <td>1.0</td>\n",
       "      <td>3.0</td>\n",
       "      <td>Premium</td>\n",
       "      <td>Annual</td>\n",
       "      <td>716.38</td>\n",
       "      <td>8.0</td>\n",
       "      <td>0.0</td>\n",
       "    </tr>\n",
       "    <tr>\n",
       "      <th>881660</th>\n",
       "      <td>25.0</td>\n",
       "      <td>Female</td>\n",
       "      <td>8.0</td>\n",
       "      <td>13.0</td>\n",
       "      <td>1.0</td>\n",
       "      <td>20.0</td>\n",
       "      <td>Premium</td>\n",
       "      <td>Annual</td>\n",
       "      <td>745.38</td>\n",
       "      <td>2.0</td>\n",
       "      <td>0.0</td>\n",
       "    </tr>\n",
       "    <tr>\n",
       "      <th>881661</th>\n",
       "      <td>26.0</td>\n",
       "      <td>Male</td>\n",
       "      <td>35.0</td>\n",
       "      <td>27.0</td>\n",
       "      <td>1.0</td>\n",
       "      <td>5.0</td>\n",
       "      <td>Standard</td>\n",
       "      <td>Quarterly</td>\n",
       "      <td>977.31</td>\n",
       "      <td>9.0</td>\n",
       "      <td>0.0</td>\n",
       "    </tr>\n",
       "    <tr>\n",
       "      <th>881662</th>\n",
       "      <td>28.0</td>\n",
       "      <td>Male</td>\n",
       "      <td>55.0</td>\n",
       "      <td>14.0</td>\n",
       "      <td>2.0</td>\n",
       "      <td>0.0</td>\n",
       "      <td>Standard</td>\n",
       "      <td>Quarterly</td>\n",
       "      <td>602.55</td>\n",
       "      <td>2.0</td>\n",
       "      <td>0.0</td>\n",
       "    </tr>\n",
       "    <tr>\n",
       "      <th>881663</th>\n",
       "      <td>31.0</td>\n",
       "      <td>Male</td>\n",
       "      <td>48.0</td>\n",
       "      <td>20.0</td>\n",
       "      <td>1.0</td>\n",
       "      <td>14.0</td>\n",
       "      <td>Premium</td>\n",
       "      <td>Quarterly</td>\n",
       "      <td>567.77</td>\n",
       "      <td>21.0</td>\n",
       "      <td>0.0</td>\n",
       "    </tr>\n",
       "  </tbody>\n",
       "</table>\n",
       "<p>707457 rows × 11 columns</p>\n",
       "</div>"
      ],
      "text/plain": [
       "        idade    sexo tempo_como_cliente frequencia_uso  ligacoes_callcenter  \\\n",
       "0        30.0  Female               39.0           14.0                  5.0   \n",
       "2        55.0  Female               14.0            4.0                  6.0   \n",
       "5        51.0    Male               33.0           25.0                  9.0   \n",
       "6        58.0  Female               49.0           12.0                  3.0   \n",
       "7        55.0  Female               37.0            8.0                  4.0   \n",
       "...       ...     ...                ...            ...                  ...   \n",
       "881659   42.0    Male               54.0           15.0                  1.0   \n",
       "881660   25.0  Female                8.0           13.0                  1.0   \n",
       "881661   26.0    Male               35.0           27.0                  1.0   \n",
       "881662   28.0    Male               55.0           14.0                  2.0   \n",
       "881663   31.0    Male               48.0           20.0                  1.0   \n",
       "\n",
       "        dias_atraso assinatura duracao_contrato  total_gasto  \\\n",
       "0              18.0   Standard           Annual       932.00   \n",
       "2              18.0      Basic        Quarterly       185.00   \n",
       "5              26.0    Premium           Annual       129.00   \n",
       "6              16.0   Standard        Quarterly       821.00   \n",
       "7              15.0    Premium           Annual       445.00   \n",
       "...             ...        ...              ...          ...   \n",
       "881659          3.0    Premium           Annual       716.38   \n",
       "881660         20.0    Premium           Annual       745.38   \n",
       "881661          5.0   Standard        Quarterly       977.31   \n",
       "881662          0.0   Standard        Quarterly       602.55   \n",
       "881663         14.0    Premium        Quarterly       567.77   \n",
       "\n",
       "        meses_ultima_interacao  cancelou  \n",
       "0                         17.0       1.0  \n",
       "2                          3.0       1.0  \n",
       "5                          8.0       1.0  \n",
       "6                         24.0       1.0  \n",
       "7                         30.0       1.0  \n",
       "...                        ...       ...  \n",
       "881659                     8.0       0.0  \n",
       "881660                     2.0       0.0  \n",
       "881661                     9.0       0.0  \n",
       "881662                     2.0       0.0  \n",
       "881663                    21.0       0.0  \n",
       "\n",
       "[707457 rows x 11 columns]"
      ]
     },
     "metadata": {},
     "output_type": "display_data"
    },
    {
     "data": {
      "text/plain": [
       "cancelou\n",
       "0.0    381666\n",
       "1.0    325791\n",
       "Name: count, dtype: int64"
      ]
     },
     "metadata": {},
     "output_type": "display_data"
    },
    {
     "data": {
      "text/plain": [
       "cancelou\n",
       "0.0    53.9%\n",
       "1.0    46.1%\n",
       "Name: proportion, dtype: object"
      ]
     },
     "metadata": {},
     "output_type": "display_data"
    }
   ],
   "source": [
    "tabela = tabela[tabela[\"duracao_contrato\"]!=\"Monthly\"]\n",
    "display(tabela)\n",
    "display(tabela[\"cancelou\"].value_counts())\n",
    "display(tabela[\"cancelou\"].value_counts(normalize=True).map(\"{:.1%}\".format))"
   ]
  },
  {
   "cell_type": "code",
   "execution_count": 19,
   "metadata": {},
   "outputs": [
    {
     "data": {
      "text/plain": [
       "assinatura\n",
       "Standard    0.339646\n",
       "Premium     0.338138\n",
       "Basic       0.322213\n",
       "Null        0.000003\n",
       "Name: proportion, dtype: float64"
      ]
     },
     "metadata": {},
     "output_type": "display_data"
    },
    {
     "data": {
      "text/html": [
       "<div>\n",
       "<style scoped>\n",
       "    .dataframe tbody tr th:only-of-type {\n",
       "        vertical-align: middle;\n",
       "    }\n",
       "\n",
       "    .dataframe tbody tr th {\n",
       "        vertical-align: top;\n",
       "    }\n",
       "\n",
       "    .dataframe thead th {\n",
       "        text-align: right;\n",
       "    }\n",
       "</style>\n",
       "<table border=\"1\" class=\"dataframe\">\n",
       "  <thead>\n",
       "    <tr style=\"text-align: right;\">\n",
       "      <th></th>\n",
       "      <th>idade</th>\n",
       "      <th>ligacoes_callcenter</th>\n",
       "      <th>dias_atraso</th>\n",
       "      <th>total_gasto</th>\n",
       "      <th>meses_ultima_interacao</th>\n",
       "      <th>cancelou</th>\n",
       "    </tr>\n",
       "    <tr>\n",
       "      <th>assinatura</th>\n",
       "      <th></th>\n",
       "      <th></th>\n",
       "      <th></th>\n",
       "      <th></th>\n",
       "      <th></th>\n",
       "      <th></th>\n",
       "    </tr>\n",
       "  </thead>\n",
       "  <tbody>\n",
       "    <tr>\n",
       "      <th>Basic</th>\n",
       "      <td>38.904813</td>\n",
       "      <td>3.310021</td>\n",
       "      <td>12.507054</td>\n",
       "      <td>648.642614</td>\n",
       "      <td>14.240814</td>\n",
       "      <td>0.475188</td>\n",
       "    </tr>\n",
       "    <tr>\n",
       "      <th>Null</th>\n",
       "      <td>35.500000</td>\n",
       "      <td>2.500000</td>\n",
       "      <td>13.500000</td>\n",
       "      <td>177.500000</td>\n",
       "      <td>11.500000</td>\n",
       "      <td>1.000000</td>\n",
       "    </tr>\n",
       "    <tr>\n",
       "      <th>Premium</th>\n",
       "      <td>38.817869</td>\n",
       "      <td>3.235885</td>\n",
       "      <td>12.433483</td>\n",
       "      <td>653.338371</td>\n",
       "      <td>14.231170</td>\n",
       "      <td>0.452341</td>\n",
       "    </tr>\n",
       "    <tr>\n",
       "      <th>Standard</th>\n",
       "      <td>38.790478</td>\n",
       "      <td>3.249275</td>\n",
       "      <td>12.450690</td>\n",
       "      <td>652.566793</td>\n",
       "      <td>14.234280</td>\n",
       "      <td>0.454714</td>\n",
       "    </tr>\n",
       "  </tbody>\n",
       "</table>\n",
       "</div>"
      ],
      "text/plain": [
       "                idade  ligacoes_callcenter  dias_atraso  total_gasto  \\\n",
       "assinatura                                                             \n",
       "Basic       38.904813             3.310021    12.507054   648.642614   \n",
       "Null        35.500000             2.500000    13.500000   177.500000   \n",
       "Premium     38.817869             3.235885    12.433483   653.338371   \n",
       "Standard    38.790478             3.249275    12.450690   652.566793   \n",
       "\n",
       "            meses_ultima_interacao  cancelou  \n",
       "assinatura                                    \n",
       "Basic                    14.240814  0.475188  \n",
       "Null                     11.500000  1.000000  \n",
       "Premium                  14.231170  0.452341  \n",
       "Standard                 14.234280  0.454714  "
      ]
     },
     "metadata": {},
     "output_type": "display_data"
    }
   ],
   "source": [
    "display(tabela[\"assinatura\"].value_counts(normalize=True))\n",
    "display(tabela.groupby(\"assinatura\").mean(numeric_only=True))"
   ]
  },
  {
   "cell_type": "code",
   "execution_count": 20,
   "metadata": {},
   "outputs": [
    {
     "data": {
      "text/plain": [
       "cancelou\n",
       "0.0    379032\n",
       "1.0    136019\n",
       "Name: count, dtype: int64"
      ]
     },
     "metadata": {},
     "output_type": "display_data"
    },
    {
     "data": {
      "text/plain": [
       "cancelou\n",
       "0.0    0.735912\n",
       "1.0    0.264088\n",
       "Name: proportion, dtype: float64"
      ]
     },
     "metadata": {},
     "output_type": "display_data"
    }
   ],
   "source": [
    "#Clientes que cancelaram com menos de 4 ligações\n",
    "\n",
    "condicao = tabela[\"ligacoes_callcenter\"] <= 4\n",
    "\n",
    "tabela = tabela[condicao]\n",
    "\n",
    "display(tabela[\"cancelou\"].value_counts())\n",
    "\n",
    "display(tabela[\"cancelou\"].value_counts(normalize=True))"
   ]
  },
  {
   "cell_type": "code",
   "execution_count": 21,
   "metadata": {},
   "outputs": [
    {
     "data": {
      "text/plain": [
       "cancelou\n",
       "0.0    379032\n",
       "1.0     85448\n",
       "Name: count, dtype: int64"
      ]
     },
     "metadata": {},
     "output_type": "display_data"
    },
    {
     "data": {
      "text/plain": [
       "cancelou\n",
       "0.0    0.816035\n",
       "1.0    0.183965\n",
       "Name: proportion, dtype: float64"
      ]
     },
     "metadata": {},
     "output_type": "display_data"
    }
   ],
   "source": [
    "# com menos de 20 dias de atraso\n",
    "\n",
    "condicao = tabela[\"dias_atraso\"] <= 20\n",
    "\n",
    "tabela = tabela[condicao]\n",
    "\n",
    "display(tabela[\"cancelou\"].value_counts())\n",
    "display(tabela[\"cancelou\"].value_counts(normalize=True))"
   ]
  },
  {
   "cell_type": "code",
   "execution_count": 29,
   "metadata": {},
   "outputs": [
    {
     "data": {
      "image/png": "[encoded data removed]",
      "text/plain": [
       "<Figure size 1000x600 with 1 Axes>"
      ]
     },
     "metadata": {},
     "output_type": "display_data"
    }
   ],
   "source": [
    "import pandas as pd\n",
    "\n",
    "\n",
    "\n",
    "tabela.groupby('cancelou')['idade'].plot(kind='hist', bins=10, alpha=0.5, legend=True, figsize=(10, 6))\n",
    "plt.xlabel('Idade')\n",
    "plt.ylabel('Frequency')\n",
    "plt.show()"
   ]
  }
 ],
 "metadata": {
  "kernelspec": {
   "display_name": ".venv",
   "language": "python",
   "name": "python3"
  },
  "language_info": {
   "codemirror_mode": {
    "name": "ipython",
    "version": 3
   },
   "file_extension": ".py",
   "mimetype": "text/x-python",
   "name": "python",
   "nbconvert_exporter": "python",
   "pygments_lexer": "ipython3",
   "version": "3.11.6"
  }
 },
 "nbformat": 4,
 "nbformat_minor": 2
}
