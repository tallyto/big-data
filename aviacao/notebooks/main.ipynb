{
 "cells": [
  {
   "cell_type": "code",
   "execution_count": 8,
   "metadata": {},
   "outputs": [
    {
     "name": "stdout",
     "output_type": "stream",
     "text": [
      "<class 'pandas.core.frame.DataFrame'>\n",
      "RangeIndex: 13685 entries, 0 to 13684\n",
      "Data columns (total 45 columns):\n",
      " #   Column                            Non-Null Count  Dtype  \n",
      "---  ------                            --------------  -----  \n",
      " 0   Numero_da_Ocorrencia              13685 non-null  int64  \n",
      " 1   Numero_da_Ficha                   13681 non-null  object \n",
      " 2   Operador_Padronizado              13564 non-null  object \n",
      " 3   Classificacao_da_Ocorrencia       13683 non-null  object \n",
      " 4   Data_da_Ocorrencia                13685 non-null  object \n",
      " 5   Hora_da_Ocorrencia                10030 non-null  object \n",
      " 6   Municipio                         9986 non-null   object \n",
      " 7   UF                                13665 non-null  object \n",
      " 8   Regiao                            12931 non-null  object \n",
      " 9   Descricao_do_Tipo                 10667 non-null  object \n",
      " 10  ICAO                              4871 non-null   object \n",
      " 11  Latitude                          9686 non-null   object \n",
      " 12  Longitude                         9678 non-null   object \n",
      " 13  Tipo_de_Aerodromo                 4725 non-null   object \n",
      " 14  Historico                         13403 non-null  object \n",
      " 15  Matricula                         13662 non-null  object \n",
      " 16  Categoria_da_Aeronave             13621 non-null  object \n",
      " 17  Operador                          13564 non-null  object \n",
      " 18  Tipo_de_Ocorrencia                10667 non-null  object \n",
      " 19  Fase_da_Operacao                  10289 non-null  object \n",
      " 20  Operacao                          13554 non-null  object \n",
      " 21  Danos_a_Aeronave                  9934 non-null   object \n",
      " 22  Aerodromo_de_Destino              8882 non-null   object \n",
      " 23  Aerodromo_de_Origem               8951 non-null   object \n",
      " 24  Lesoes_Fatais_Tripulantes         9483 non-null   float64\n",
      " 25  Lesoes_Fatais_Passageiros         9421 non-null   float64\n",
      " 26  Lesoes_Fatais_Terceiros           9366 non-null   float64\n",
      " 27  Lesoes_Graves_Tripulantes         9428 non-null   float64\n",
      " 28  Lesoes_Graves_Passageiros         9378 non-null   float64\n",
      " 29  Lesoes_Graves_Terceiros           9359 non-null   float64\n",
      " 30  Lesoes_Leves_Tripulantes          9485 non-null   float64\n",
      " 31  Lesoes_Leves_Passageiros          9386 non-null   float64\n",
      " 32  Lesoes_Leves_Terceiros            9358 non-null   float64\n",
      " 33  Ilesos_Tripulantes                11763 non-null  float64\n",
      " 34  Ilesos_Passageiros                10710 non-null  float64\n",
      " 35  Lesoes_Desconhecidas_Tripulantes  9372 non-null   float64\n",
      " 36  Lesoes_Desconhecidas_Passageiros  9362 non-null   float64\n",
      " 37  Lesoes_Desconhecidas_Terceiros    9362 non-null   float64\n",
      " 38  Modelo                            13266 non-null  object \n",
      " 39  CLS                               13245 non-null  object \n",
      " 40  Tipo_ICAO                         13265 non-null  object \n",
      " 41  PMD                               13285 non-null  float64\n",
      " 42  Numero_de_Assentos                13275 non-null  float64\n",
      " 43  Nome_do_Fabricante                13119 non-null  object \n",
      " 44  PSSO                              13621 non-null  object \n",
      "dtypes: float64(16), int64(1), object(28)\n",
      "memory usage: 4.7+ MB\n"
     ]
    },
    {
     "data": {
      "text/plain": [
       "None"
      ]
     },
     "metadata": {},
     "output_type": "display_data"
    }
   ],
   "source": [
    "import pandas as pd\n",
    "\n",
    "# Lê o arquivo CSV e ignora linhas com erros\n",
    "tabela = pd.read_csv(\"../data/V_OCORRENCIA_AMPLA.csv\", on_bad_lines=\"skip\", delimiter=\";\")\n",
    "\n",
    "\n",
    "# Exibe informações sobre o DataFrame\n",
    "info_tabela = tabela.info()\n",
    "display(info_tabela)\n"
   ]
  },
  {
   "cell_type": "code",
   "execution_count": null,
   "metadata": {},
   "outputs": [],
   "source": []
  }
 ],
 "metadata": {
  "kernelspec": {
   "display_name": "Python 3",
   "language": "python",
   "name": "python3"
  },
  "language_info": {
   "codemirror_mode": {
    "name": "ipython",
    "version": 3
   },
   "file_extension": ".py",
   "mimetype": "text/x-python",
   "name": "python",
   "nbconvert_exporter": "python",
   "pygments_lexer": "ipython3",
   "version": "3.11.6"
  }
 },
 "nbformat": 4,
 "nbformat_minor": 2
}
